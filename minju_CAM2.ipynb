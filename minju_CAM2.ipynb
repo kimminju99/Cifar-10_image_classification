{
  "nbformat": 4,
  "nbformat_minor": 0,
  "metadata": {
    "colab": {
      "name": "minju_CAM2.ipynb",
      "provenance": [],
      "collapsed_sections": [],
      "include_colab_link": true
    },
    "kernelspec": {
      "name": "python3",
      "display_name": "Python 3"
    },
    "language_info": {
      "name": "python"
    },
    "accelerator": "GPU"
  },
  "cells": [
    {
      "cell_type": "markdown",
      "metadata": {
        "id": "view-in-github",
        "colab_type": "text"
      },
      "source": [
        "<a href=\"https://colab.research.google.com/github/kimminju99/Cifar-10_image_classification/blob/main/minju_CAM2.ipynb\" target=\"_parent\"><img src=\"https://colab.research.google.com/assets/colab-badge.svg\" alt=\"Open In Colab\"/></a>"
      ]
    },
    {
      "cell_type": "code",
      "metadata": {
        "id": "TJoNqxPYB14V",
        "colab": {
          "base_uri": "https://localhost:8080/"
        },
        "outputId": "8273d769-29a6-4fcb-9ae9-80b23efbefe1"
      },
      "source": [
        "from google.colab import drive\n",
        "drive.mount('/content/gdrive')"
      ],
      "execution_count": 1,
      "outputs": [
        {
          "output_type": "stream",
          "text": [
            "Mounted at /content/gdrive\n"
          ],
          "name": "stdout"
        }
      ]
    },
    {
      "cell_type": "code",
      "metadata": {
        "id": "yuUGhotO-hYb"
      },
      "source": [
        "from keras.applications.vgg16 import VGG16\n",
        "import matplotlib.image as mpimg\n",
        "from keras import backend as K\n",
        "import sys\n",
        "import numpy as np\n",
        "import tensorflow as tf\n",
        "import matplotlib.pyplot as plt\n",
        "from tensorflow import keras\n",
        "from tensorflow.keras import layers\n",
        "from tensorflow.keras.layers import Dense, Dropout, Activation, Flatten, Conv2D, MaxPooling2D\n",
        "from tensorflow.keras.models import Sequential\n",
        "from tensorflow.keras.optimizers import SGD\n",
        "from keras.utils import np_utils\n",
        "from keras.datasets import cifar10\n",
        "from matplotlib import pyplot\n",
        "import tensorflow.keras.optimizers as Optimizer\n",
        "from sklearn.metrics import confusion_matrix\n",
        "K.clear_session()"
      ],
      "execution_count": 2,
      "outputs": []
    },
    {
      "cell_type": "code",
      "metadata": {
        "id": "cGWIdNEFeZdn"
      },
      "source": [
        "def get_classlabel(class_code):\n",
        "    labels =  {0:'airplane', 1: 'automobile', 2: 'bird', 3 : 'cat', 4: 'deer',5:'dog', 6:'frog',7:'horse',8:'ship',9:'truck'}\n",
        "\n",
        "    return labels[class_code]"
      ],
      "execution_count": 3,
      "outputs": []
    },
    {
      "cell_type": "code",
      "metadata": {
        "id": "m9eaCeBfeei_"
      },
      "source": [
        "def plot_confusion_matrix(y_true, y_pred, classes,\n",
        "                          normalize=False,\n",
        "                          title=None,\n",
        "                          cmap=plt.cm.Blues):\n",
        "    \"\"\"\n",
        "    This function prints and plots the confusion matrix.\n",
        "    Normalization can be applied by setting `normalize=True`.\n",
        "    \"\"\"\n",
        "    if not title:\n",
        "        if normalize:\n",
        "            title = 'Normalized confusion matrix'\n",
        "        else:\n",
        "            title = 'Confusion matrix, without normalization'\n",
        "\n",
        "    # Compute confusion matrix\n",
        "    cm = confusion_matrix(y_true, y_pred)\n",
        "    if normalize:\n",
        "       cm = cm.astype('float') / cm.sum(axis=1)[:, np.newaxis]\n",
        "       print(\"Normalized confusion matrix\")\n",
        "    else:\n",
        "        print('Confusion matrix, without normalization')\n",
        "    \n",
        "    #     print(cm)\n",
        "\n",
        "    fig, ax = plt.subplots(figsize=(7,7))\n",
        "    im = ax.imshow(cm, interpolation='nearest', cmap=cmap)\n",
        "    ax.figure.colorbar(im, ax=ax)\n",
        "    # We want to show all ticks...\n",
        "    ax.set(xticks=np.arange(cm.shape[1]),\n",
        "           yticks=np.arange(cm.shape[0]),\n",
        "           # ... and label them with the respective list entries\n",
        "           xticklabels=classes, yticklabels=classes,\n",
        "           title=title,\n",
        "           ylabel='True label',\n",
        "           xlabel='Predicted label')\n",
        "\n",
        "    # Rotate the tick labels and set their alignment.\n",
        "    plt.setp(ax.get_xticklabels(), rotation=45, ha=\"right\",\n",
        "             rotation_mode=\"anchor\")\n",
        "    # Loop over data dimensions and create text annotations.\n",
        "    fmt = '.2f' if normalize else 'd'\n",
        "    thresh = cm.max() / 2.\n",
        "    for i in range(cm.shape[0]):\n",
        "        for j in range(cm.shape[1]):\n",
        "            ax.text(j, i, format(cm[i, j], fmt),\n",
        "                    ha=\"center\", va=\"center\",\n",
        "                     color=\"white\" if cm[i, j] > thresh else \"black\")\n",
        "    fig.tight_layout()\n",
        "    return ax\n",
        "\n",
        "\n",
        "np.set_printoptions(precision=2)"
      ],
      "execution_count": 4,
      "outputs": []
    },
    {
      "cell_type": "code",
      "metadata": {
        "id": "wQnNqMmQeoTb"
      },
      "source": [
        "def show_accuracy(history):\n",
        "    acc = history.history['accuracy']\n",
        "    val_acc = history.history['val_accuracy']\n",
        "\n",
        "    loss=history.history['loss']\n",
        "    val_loss=history.history['val_loss']\n",
        "\n",
        "    epochs_range = range(epochs)\n",
        "\n",
        "    plt.figure(figsize=(8, 8))\n",
        "    plt.subplot(1, 2, 1)\n",
        "    plt.plot(epochs_range, acc, color = 'red', label='Training Accuracy')\n",
        "    plt.plot(epochs_range, val_acc, color = 'blue', label='Validation Accuracy')\n",
        "    plt.legend(loc='lower right')\n",
        "    plt.title('Training and Validation Accuracy')\n",
        "\n",
        "    plt.subplot(1, 2, 2)\n",
        "    plt.plot(epochs_range, loss, color = 'red', label='Training Loss')\n",
        "    plt.plot(epochs_range, val_loss, color = 'blue', label='Validation Loss')\n",
        "    plt.legend(loc='upper right')\n",
        "    plt.title('Training and Validation Loss')\n",
        "    plt.show()"
      ],
      "execution_count": 5,
      "outputs": []
    },
    {
      "cell_type": "code",
      "metadata": {
        "colab": {
          "base_uri": "https://localhost:8080/",
          "height": 284
        },
        "id": "Ak9PG5I1-phM",
        "outputId": "d5201653-4798-4176-efbc-98338298b21a"
      },
      "source": [
        "img_path = '/content/gdrive/My Drive/인공지능/0000.jpg'\n",
        "img=mpimg.imread(img_path)\n",
        "plt.imshow(img)"
      ],
      "execution_count": 6,
      "outputs": [
        {
          "output_type": "execute_result",
          "data": {
            "text/plain": [
              "<matplotlib.image.AxesImage at 0x7f9e72523dd0>"
            ]
          },
          "metadata": {
            "tags": []
          },
          "execution_count": 6
        },
        {
          "output_type": "display_data",
          "data": {
            "image/png": "[encoded data removed]",
            "text/plain": [
              "<Figure size 432x288 with 1 Axes>"
            ]
          },
          "metadata": {
            "tags": [],
            "needs_background": "light"
          }
        }
      ]
    },
    {
      "cell_type": "markdown",
      "metadata": {
        "id": "ynTGWBdus6At"
      },
      "source": [
        "# 새 섹션"
      ]
    },
    {
      "cell_type": "code",
      "metadata": {
        "id": "KQcA3KXQ-n2a",
        "colab": {
          "base_uri": "https://localhost:8080/"
        },
        "outputId": "5f6ae8c2-50b2-4a8e-da48-ee4165e50667"
      },
      "source": [
        "(x_train, y_train), (x_test, y_test) = keras.datasets.cifar10.load_data()\n",
        "input_shape = x_train.shape[1:]\n",
        "y_train = np_utils.to_categorical(y_train, 10)\n",
        "y_test = np_utils.to_categorical(y_test, 10)"
      ],
      "execution_count": 7,
      "outputs": [
        {
          "output_type": "stream",
          "text": [
            "Downloading data from https://www.cs.toronto.edu/~kriz/cifar-10-python.tar.gz\n",
            "170500096/170498071 [==============================] - 2s 0us/step\n"
          ],
          "name": "stdout"
        }
      ]
    },
    {
      "cell_type": "code",
      "metadata": {
        "id": "2ZnaTtwTAFrj"
      },
      "source": [
        "from keras.preprocessing import image\n",
        "img = image.load_img(img_path, target_size=(32, 32))"
      ],
      "execution_count": 8,
      "outputs": []
    },
    {
      "cell_type": "code",
      "metadata": {
        "id": "OlFtM2VtAJB2"
      },
      "source": [
        "x = image.img_to_array(img)"
      ],
      "execution_count": 9,
      "outputs": []
    },
    {
      "cell_type": "code",
      "metadata": {
        "id": "VpblnxPYC5p_",
        "colab": {
          "base_uri": "https://localhost:8080/"
        },
        "outputId": "bd352e56-a31b-453e-a54c-a11657173f2c"
      },
      "source": [
        "print(\"mean before normalization : \", np.mean(x_train))\n",
        "print(\"std before normalization : \", np.std(x_train))\n",
        "\n",
        "mean=[0,0,0]\n",
        "std=[0,0,0]\n",
        "newX_train = np.ones(x_train.shape)\n",
        "newX_test = np.ones(x_test.shape)\n",
        "\n",
        "print(x_train.shape)\n",
        "print(x_test.shape)\n",
        "print(x_train[0][0][0])\n",
        "\n",
        "for i in range(3):\n",
        "    mean[i] = np.mean(x_train[:,:,:,i])\n",
        "    std[i] = np.std(x_train[:,:,:,i])\n",
        "\n",
        "for i in range(3):\n",
        "    newX_train[:,:,:,i] = x_train[:,:,:,i] - mean[i]\n",
        "    newX_train[:,:,:,i] = newX_train[:,:,:,i] / std[i]\n",
        "    newX_test[:,:,:,i] = x_test[:,:,:,i] - mean[i]\n",
        "    newX_test[:,:,:,i] = newX_test[:,:,:,i] / std[i]\n",
        "        \n",
        "x_train = newX_train\n",
        "x_test = newX_test\n",
        "\n",
        "print(\"mean after normalization : \", np.mean(x_train))\n",
        "print(\"std after normalization : \", np.std(x_train))\n",
        "print(\"x_train max : \", x_train.max())\n",
        "\n",
        "batch_size = 16\n",
        "num_classes = 10\n",
        "epochs = 50\n",
        "learningRate = 1e-4\n",
        "\n",
        "img_rows = 32 #input image dimensions\n",
        "img_cols = 32 \n",
        "\n",
        "# y_train = np_utils.to_categorical(y_train, num_classes)\n",
        "# y_test = np_utils.to_categorical(y_test, num_classes)\n",
        "\n",
        "model = keras.Sequential([\n",
        "    #layer1              \n",
        "    layers.Conv2D(32, (3, 3), padding='same', input_shape=input_shape),\n",
        "    layers.BatchNormalization(),\n",
        "    layers.Activation('relu'),\n",
        "    layers.Conv2D(32, (3, 3)),\n",
        "    layers.BatchNormalization(),\n",
        "    layers.Activation('relu'),\n",
        "    layers.MaxPooling2D(pool_size=(2,2)),\n",
        "    layers.Dropout(0.2),\n",
        "\n",
        "    #layer2\n",
        "    layers.Conv2D(64, (3,3), padding='same'),\n",
        "    #layers.BatchNormalization(),\n",
        "    layers.Activation('relu'),\n",
        "    layers.Conv2D(64, (3,3)),\n",
        "    #layers.BatchNormalization(),\n",
        "    layers.Activation('relu'),\n",
        "    layers.MaxPooling2D(pool_size=(2,2)),\n",
        "    layers.Dropout(0.2),\n",
        "\n",
        "    #layer3\n",
        "    # layers.Flatten(),\n",
        "    # layers.Dense(512),\n",
        "    #layers.BatchNormalization(),\n",
        "    # layers.Activation('relu'),\n",
        "    #layers.Dropout(0.5),\n",
        "    #layer4\n",
        "    \n",
        "    layers.GlobalAveragePooling2D(),\n",
        "    layers.Dense(num_classes),\n",
        "    layers.Activation('softmax'),\n",
        "])\n",
        "\n",
        "model.summary()\n",
        "\n",
        "model.compile(optimizer=Optimizer.Adam(learning_rate=learningRate ), loss='categorical_crossentropy', metrics=['accuracy'])\n",
        "history = model.fit(\n",
        "    x_train, y_train,\n",
        "    batch_size=batch_size,\n",
        "    epochs=epochs,\n",
        "    validation_data=(x_test, y_test)\n",
        ")"
      ],
      "execution_count": 10,
      "outputs": [
        {
          "output_type": "stream",
          "text": [
            "mean before normalization :  120.70756512369792\n",
            "std before normalization :  64.1500758911213\n",
            "(50000, 32, 32, 3)\n",
            "(10000, 32, 32, 3)\n",
            "[59 62 63]\n",
            "mean after normalization :  4.91799193961621e-17\n",
            "std after normalization :  0.9999999999999996\n",
            "x_train max :  2.126789409516928\n",
            "Model: \"sequential\"\n",
            "_________________________________________________________________\n",
            "Layer (type)                 Output Shape              Param #   \n",
            "=================================================================\n",
            "conv2d (Conv2D)              (None, 32, 32, 32)        896       \n",
            "_________________________________________________________________\n",
            "batch_normalization (BatchNo (None, 32, 32, 32)        128       \n",
            "_________________________________________________________________\n",
            "activation (Activation)      (None, 32, 32, 32)        0         \n",
            "_________________________________________________________________\n",
            "conv2d_1 (Conv2D)            (None, 30, 30, 32)        9248      \n",
            "_________________________________________________________________\n",
            "batch_normalization_1 (Batch (None, 30, 30, 32)        128       \n",
            "_________________________________________________________________\n",
            "activation_1 (Activation)    (None, 30, 30, 32)        0         \n",
            "_________________________________________________________________\n",
            "max_pooling2d (MaxPooling2D) (None, 15, 15, 32)        0         \n",
            "_________________________________________________________________\n",
            "dropout (Dropout)            (None, 15, 15, 32)        0         \n",
            "_________________________________________________________________\n",
            "conv2d_2 (Conv2D)            (None, 15, 15, 64)        18496     \n",
            "_________________________________________________________________\n",
            "activation_2 (Activation)    (None, 15, 15, 64)        0         \n",
            "_________________________________________________________________\n",
            "conv2d_3 (Conv2D)            (None, 13, 13, 64)        36928     \n",
            "_________________________________________________________________\n",
            "activation_3 (Activation)    (None, 13, 13, 64)        0         \n",
            "_________________________________________________________________\n",
            "max_pooling2d_1 (MaxPooling2 (None, 6, 6, 64)          0         \n",
            "_________________________________________________________________\n",
            "dropout_1 (Dropout)          (None, 6, 6, 64)          0         \n",
            "_________________________________________________________________\n",
            "global_average_pooling2d (Gl (None, 64)                0         \n",
            "_________________________________________________________________\n",
            "dense (Dense)                (None, 10)                650       \n",
            "_________________________________________________________________\n",
            "activation_4 (Activation)    (None, 10)                0         \n",
            "=================================================================\n",
            "Total params: 66,474\n",
            "Trainable params: 66,346\n",
            "Non-trainable params: 128\n",
            "_________________________________________________________________\n",
            "Epoch 1/50\n",
            "3125/3125 [==============================] - 43s 4ms/step - loss: 1.6969 - accuracy: 0.3714 - val_loss: 1.4529 - val_accuracy: 0.4665\n",
            "Epoch 2/50\n",
            "3125/3125 [==============================] - 12s 4ms/step - loss: 1.4426 - accuracy: 0.4792 - val_loss: 1.3365 - val_accuracy: 0.5199\n",
            "Epoch 3/50\n",
            "3125/3125 [==============================] - 12s 4ms/step - loss: 1.3460 - accuracy: 0.5209 - val_loss: 1.2814 - val_accuracy: 0.5422\n",
            "Epoch 4/50\n",
            "3125/3125 [==============================] - 12s 4ms/step - loss: 1.2823 - accuracy: 0.5453 - val_loss: 1.1935 - val_accuracy: 0.5803\n",
            "Epoch 5/50\n",
            "3125/3125 [==============================] - 12s 4ms/step - loss: 1.2312 - accuracy: 0.5691 - val_loss: 1.1799 - val_accuracy: 0.5787\n",
            "Epoch 6/50\n",
            "3125/3125 [==============================] - 12s 4ms/step - loss: 1.1865 - accuracy: 0.5834 - val_loss: 1.1025 - val_accuracy: 0.6139\n",
            "Epoch 7/50\n",
            "3125/3125 [==============================] - 12s 4ms/step - loss: 1.1554 - accuracy: 0.5939 - val_loss: 1.0717 - val_accuracy: 0.6243\n",
            "Epoch 8/50\n",
            "3125/3125 [==============================] - 12s 4ms/step - loss: 1.1154 - accuracy: 0.6116 - val_loss: 1.0435 - val_accuracy: 0.6369\n",
            "Epoch 9/50\n",
            "3125/3125 [==============================] - 12s 4ms/step - loss: 1.0907 - accuracy: 0.6173 - val_loss: 1.0387 - val_accuracy: 0.6326\n",
            "Epoch 10/50\n",
            "3125/3125 [==============================] - 12s 4ms/step - loss: 1.0657 - accuracy: 0.6278 - val_loss: 1.0144 - val_accuracy: 0.6416\n",
            "Epoch 11/50\n",
            "3125/3125 [==============================] - 12s 4ms/step - loss: 1.0435 - accuracy: 0.6384 - val_loss: 0.9910 - val_accuracy: 0.6523\n",
            "Epoch 12/50\n",
            "3125/3125 [==============================] - 12s 4ms/step - loss: 1.0206 - accuracy: 0.6430 - val_loss: 0.9872 - val_accuracy: 0.6561\n",
            "Epoch 13/50\n",
            "3125/3125 [==============================] - 12s 4ms/step - loss: 1.0068 - accuracy: 0.6477 - val_loss: 0.9552 - val_accuracy: 0.6644\n",
            "Epoch 14/50\n",
            "3125/3125 [==============================] - 12s 4ms/step - loss: 0.9860 - accuracy: 0.6550 - val_loss: 0.9608 - val_accuracy: 0.6623\n",
            "Epoch 15/50\n",
            "3125/3125 [==============================] - 12s 4ms/step - loss: 0.9700 - accuracy: 0.6629 - val_loss: 0.9185 - val_accuracy: 0.6796\n",
            "Epoch 16/50\n",
            "3125/3125 [==============================] - 12s 4ms/step - loss: 0.9490 - accuracy: 0.6704 - val_loss: 0.9173 - val_accuracy: 0.6779\n",
            "Epoch 17/50\n",
            "3125/3125 [==============================] - 12s 4ms/step - loss: 0.9363 - accuracy: 0.6724 - val_loss: 0.9017 - val_accuracy: 0.6876\n",
            "Epoch 18/50\n",
            "3125/3125 [==============================] - 12s 4ms/step - loss: 0.9195 - accuracy: 0.6804 - val_loss: 0.9102 - val_accuracy: 0.6785\n",
            "Epoch 19/50\n",
            "3125/3125 [==============================] - 12s 4ms/step - loss: 0.9032 - accuracy: 0.6870 - val_loss: 0.8653 - val_accuracy: 0.6993\n",
            "Epoch 20/50\n",
            "3125/3125 [==============================] - 12s 4ms/step - loss: 0.8917 - accuracy: 0.6899 - val_loss: 0.8475 - val_accuracy: 0.7042\n",
            "Epoch 21/50\n",
            "3125/3125 [==============================] - 12s 4ms/step - loss: 0.8806 - accuracy: 0.6921 - val_loss: 0.8705 - val_accuracy: 0.6993\n",
            "Epoch 22/50\n",
            "3125/3125 [==============================] - 12s 4ms/step - loss: 0.8652 - accuracy: 0.6984 - val_loss: 0.8295 - val_accuracy: 0.7101\n",
            "Epoch 23/50\n",
            "3125/3125 [==============================] - 12s 4ms/step - loss: 0.8535 - accuracy: 0.7017 - val_loss: 0.8549 - val_accuracy: 0.6993\n",
            "Epoch 24/50\n",
            "3125/3125 [==============================] - 12s 4ms/step - loss: 0.8449 - accuracy: 0.7043 - val_loss: 0.8105 - val_accuracy: 0.7173\n",
            "Epoch 25/50\n",
            "3125/3125 [==============================] - 12s 4ms/step - loss: 0.8311 - accuracy: 0.7104 - val_loss: 0.8135 - val_accuracy: 0.7172\n",
            "Epoch 26/50\n",
            "3125/3125 [==============================] - 12s 4ms/step - loss: 0.8216 - accuracy: 0.7156 - val_loss: 0.8099 - val_accuracy: 0.7202\n",
            "Epoch 27/50\n",
            "3125/3125 [==============================] - 12s 4ms/step - loss: 0.8148 - accuracy: 0.7174 - val_loss: 0.7984 - val_accuracy: 0.7214\n",
            "Epoch 28/50\n",
            "3125/3125 [==============================] - 12s 4ms/step - loss: 0.8053 - accuracy: 0.7204 - val_loss: 0.7858 - val_accuracy: 0.7228\n",
            "Epoch 29/50\n",
            "3125/3125 [==============================] - 12s 4ms/step - loss: 0.7937 - accuracy: 0.7247 - val_loss: 0.8092 - val_accuracy: 0.7174\n",
            "Epoch 30/50\n",
            "3125/3125 [==============================] - 12s 4ms/step - loss: 0.7847 - accuracy: 0.7275 - val_loss: 0.7816 - val_accuracy: 0.7301\n",
            "Epoch 31/50\n",
            "3125/3125 [==============================] - 12s 4ms/step - loss: 0.7773 - accuracy: 0.7289 - val_loss: 0.7990 - val_accuracy: 0.7218\n",
            "Epoch 32/50\n",
            "3125/3125 [==============================] - 12s 4ms/step - loss: 0.7704 - accuracy: 0.7331 - val_loss: 0.7456 - val_accuracy: 0.7403\n",
            "Epoch 33/50\n",
            "3125/3125 [==============================] - 12s 4ms/step - loss: 0.7617 - accuracy: 0.7362 - val_loss: 0.7540 - val_accuracy: 0.7397\n",
            "Epoch 34/50\n",
            "3125/3125 [==============================] - 12s 4ms/step - loss: 0.7547 - accuracy: 0.7408 - val_loss: 0.7514 - val_accuracy: 0.7346\n",
            "Epoch 35/50\n",
            "3125/3125 [==============================] - 12s 4ms/step - loss: 0.7456 - accuracy: 0.7436 - val_loss: 0.7471 - val_accuracy: 0.7467\n",
            "Epoch 36/50\n",
            "3125/3125 [==============================] - 12s 4ms/step - loss: 0.7374 - accuracy: 0.7464 - val_loss: 0.7125 - val_accuracy: 0.7505\n",
            "Epoch 37/50\n",
            "3125/3125 [==============================] - 12s 4ms/step - loss: 0.7320 - accuracy: 0.7481 - val_loss: 0.7195 - val_accuracy: 0.7494\n",
            "Epoch 38/50\n",
            "3125/3125 [==============================] - 12s 4ms/step - loss: 0.7228 - accuracy: 0.7507 - val_loss: 0.7242 - val_accuracy: 0.7505\n",
            "Epoch 39/50\n",
            "3125/3125 [==============================] - 12s 4ms/step - loss: 0.7160 - accuracy: 0.7529 - val_loss: 0.7136 - val_accuracy: 0.7526\n",
            "Epoch 40/50\n",
            "3125/3125 [==============================] - 12s 4ms/step - loss: 0.7107 - accuracy: 0.7535 - val_loss: 0.7096 - val_accuracy: 0.7548\n",
            "Epoch 41/50\n",
            "3125/3125 [==============================] - 12s 4ms/step - loss: 0.7019 - accuracy: 0.7571 - val_loss: 0.7216 - val_accuracy: 0.7499\n",
            "Epoch 42/50\n",
            "3125/3125 [==============================] - 12s 4ms/step - loss: 0.6942 - accuracy: 0.7586 - val_loss: 0.6982 - val_accuracy: 0.7567\n",
            "Epoch 43/50\n",
            "3125/3125 [==============================] - 12s 4ms/step - loss: 0.6884 - accuracy: 0.7613 - val_loss: 0.6993 - val_accuracy: 0.7550\n",
            "Epoch 44/50\n",
            "3125/3125 [==============================] - 12s 4ms/step - loss: 0.6858 - accuracy: 0.7631 - val_loss: 0.7060 - val_accuracy: 0.7581\n",
            "Epoch 45/50\n",
            "3125/3125 [==============================] - 12s 4ms/step - loss: 0.6796 - accuracy: 0.7611 - val_loss: 0.7215 - val_accuracy: 0.7536\n",
            "Epoch 46/50\n",
            "3125/3125 [==============================] - 12s 4ms/step - loss: 0.6717 - accuracy: 0.7680 - val_loss: 0.6796 - val_accuracy: 0.7622\n",
            "Epoch 47/50\n",
            "3125/3125 [==============================] - 12s 4ms/step - loss: 0.6672 - accuracy: 0.7694 - val_loss: 0.6688 - val_accuracy: 0.7718\n",
            "Epoch 48/50\n",
            "3125/3125 [==============================] - 12s 4ms/step - loss: 0.6605 - accuracy: 0.7717 - val_loss: 0.7120 - val_accuracy: 0.7516\n",
            "Epoch 49/50\n",
            "3125/3125 [==============================] - 12s 4ms/step - loss: 0.6548 - accuracy: 0.7734 - val_loss: 0.6693 - val_accuracy: 0.7690\n",
            "Epoch 50/50\n",
            "3125/3125 [==============================] - 12s 4ms/step - loss: 0.6509 - accuracy: 0.7749 - val_loss: 0.6521 - val_accuracy: 0.7738\n"
          ],
          "name": "stdout"
        }
      ]
    },
    {
      "cell_type": "code",
      "metadata": {
        "id": "GZh1L9U_iorI",
        "colab": {
          "base_uri": "https://localhost:8080/",
          "height": 499
        },
        "outputId": "03bf72b6-3813-4796-9f8e-c1284dec39ac"
      },
      "source": [
        "show_accuracy(history)"
      ],
      "execution_count": 11,
      "outputs": [
        {
          "output_type": "display_data",
          "data": {
            "image/png": "[encoded data removed]",
            "text/plain": [
              "<Figure size 576x576 with 2 Axes>"
            ]
          },
          "metadata": {
            "tags": [],
            "needs_background": "light"
          }
        }
      ]
    },
    {
      "cell_type": "code",
      "metadata": {
        "id": "KO4ntkc-is_C",
        "colab": {
          "base_uri": "https://localhost:8080/",
          "height": 577
        },
        "outputId": "2c888515-551b-4638-ee44-8df40d372a00"
      },
      "source": [
        "class_names=['airplane', 'automobile', 'bird', 'cat', 'deer', 'dog', 'frog', 'horse', 'ship', 'truck']\n",
        "\n",
        "y_pred=model.predict_classes(x_test)\n",
        "y_true=np.argmax(y_test,axis=1)\n",
        "\n",
        "#Compute the confusion matrix\n",
        "confusion_mtx=confusion_matrix(y_true,y_pred)\n",
        "\n",
        "# Plot non-normalized confusion matrix\n",
        "plot_confusion_matrix(y_true, y_pred, classes=class_names,\n",
        "                      title='Confusion matrix3 (Dropout & BatchNormalization in 1 layer)')"
      ],
      "execution_count": 12,
      "outputs": [
        {
          "output_type": "stream",
          "text": [
            "/usr/local/lib/python3.7/dist-packages/tensorflow/python/keras/engine/sequential.py:455: UserWarning: `model.predict_classes()` is deprecated and will be removed after 2021-01-01. Please use instead:* `np.argmax(model.predict(x), axis=-1)`,   if your model does multi-class classification   (e.g. if it uses a `softmax` last-layer activation).* `(model.predict(x) > 0.5).astype(\"int32\")`,   if your model does binary classification   (e.g. if it uses a `sigmoid` last-layer activation).\n",
            "  warnings.warn('`model.predict_classes()` is deprecated and '\n"
          ],
          "name": "stderr"
        },
        {
          "output_type": "stream",
          "text": [
            "Confusion matrix, without normalization\n"
          ],
          "name": "stdout"
        },
        {
          "output_type": "execute_result",
          "data": {
            "text/plain": [
              "<matplotlib.axes._subplots.AxesSubplot at 0x7f9e602e8590>"
            ]
          },
          "metadata": {
            "tags": []
          },
          "execution_count": 12
        },
        {
          "output_type": "display_data",
          "data": {
            "image/png": "[encoded data removed]",
            "text/plain": [
              "<Figure size 504x504 with 2 Axes>"
            ]
          },
          "metadata": {
            "tags": [],
            "needs_background": "light"
          }
        }
      ]
    },
    {
      "cell_type": "code",
      "metadata": {
        "id": "JcdCuo6pGw-E",
        "colab": {
          "base_uri": "https://localhost:8080/"
        },
        "outputId": "d26ac061-612e-48de-8274-adaa2293edcf"
      },
      "source": [
        "x = np.expand_dims(x, axis=0)\n",
        "print(x.shape)\n",
        "from keras.applications.vgg16 import preprocess_input\n",
        "x = preprocess_input(x)\n",
        "print(x)"
      ],
      "execution_count": 13,
      "outputs": [
        {
          "output_type": "stream",
          "text": [
            "(1, 32, 32, 3)\n",
            "[[[[-103.94  -92.78   73.32]\n",
            "   [-103.94  -77.78   88.32]\n",
            "   [-103.94  -65.78  100.32]\n",
            "   ...\n",
            "   [ -88.94  -95.78  -43.68]\n",
            "   [ -86.94 -101.78  -18.68]\n",
            "   [ -84.94 -104.78   -0.68]]\n",
            "\n",
            "  [[ -95.94  -49.78  112.32]\n",
            "   [ -89.94  -43.78  118.32]\n",
            "   [ -90.94  -44.78  117.32]\n",
            "   ...\n",
            "   [ -80.94  -86.78  -30.68]\n",
            "   [ -87.94 -103.78  -11.68]\n",
            "   [ -96.94 -116.78   -5.68]]\n",
            "\n",
            "  [[ -80.94  -42.78  107.32]\n",
            "   [ -77.94  -39.78  110.32]\n",
            "   [ -81.94  -43.78  106.32]\n",
            "   ...\n",
            "   [ -80.94  -84.78  -23.68]\n",
            "   [ -90.94 -105.78   -6.68]\n",
            "   [-100.94 -116.78    1.32]]\n",
            "\n",
            "  ...\n",
            "\n",
            "  [[ -71.94  -90.78  -44.68]\n",
            "   [ -55.94  -75.78  -39.68]\n",
            "   [ -59.94  -81.78  -61.68]\n",
            "   ...\n",
            "   [ -89.94 -100.78 -106.68]\n",
            "   [ -85.94  -95.78  -97.68]\n",
            "   [ -81.94  -93.78  -90.68]]\n",
            "\n",
            "  [[ -73.94  -90.78  -48.68]\n",
            "   [ -50.94  -68.78  -36.68]\n",
            "   [ -54.94  -75.78  -59.68]\n",
            "   ...\n",
            "   [ -84.94  -94.78 -103.68]\n",
            "   [ -79.94  -88.78  -94.68]\n",
            "   [ -79.94  -89.78  -91.68]]\n",
            "\n",
            "  [[ -72.94  -88.78  -49.68]\n",
            "   [ -46.94  -63.78  -34.68]\n",
            "   [ -42.94  -62.78  -48.68]\n",
            "   ...\n",
            "   [ -79.94  -88.78 -100.68]\n",
            "   [ -73.94  -81.78  -89.68]\n",
            "   [ -77.94  -86.78  -92.68]]]]\n"
          ],
          "name": "stdout"
        }
      ]
    },
    {
      "cell_type": "code",
      "metadata": {
        "id": "GyFTF5KVIJiM",
        "colab": {
          "base_uri": "https://localhost:8080/",
          "height": 80
        },
        "outputId": "cb52db16-9b39-4ece-976e-9951fd280fef"
      },
      "source": [
        "import pandas as pd\n",
        "# from keras.applications.vgg16 import decode_predictions\n",
        "# tf.keras.applications.resnet.decode_predictions\n",
        "preds = model.predict(x)\n",
        "# predictions = pd.DataFrame(decode_predictions(preds, top=3)[0],columns=['col1','category','probability']).iloc[:,1:]\n",
        "predictions = pd.DataFrame(preds)\n",
        "# print('PREDICTION:',predictions.loc[0,'category'])\n",
        "predictions"
      ],
      "execution_count": 14,
      "outputs": [
        {
          "output_type": "execute_result",
          "data": {
            "text/html": [
              "<div>\n",
              "<style scoped>\n",
              "    .dataframe tbody tr th:only-of-type {\n",
              "        vertical-align: middle;\n",
              "    }\n",
              "\n",
              "    .dataframe tbody tr th {\n",
              "        vertical-align: top;\n",
              "    }\n",
              "\n",
              "    .dataframe thead th {\n",
              "        text-align: right;\n",
              "    }\n",
              "</style>\n",
              "<table border=\"1\" class=\"dataframe\">\n",
              "  <thead>\n",
              "    <tr style=\"text-align: right;\">\n",
              "      <th></th>\n",
              "      <th>0</th>\n",
              "      <th>1</th>\n",
              "      <th>2</th>\n",
              "      <th>3</th>\n",
              "      <th>4</th>\n",
              "      <th>5</th>\n",
              "      <th>6</th>\n",
              "      <th>7</th>\n",
              "      <th>8</th>\n",
              "      <th>9</th>\n",
              "    </tr>\n",
              "  </thead>\n",
              "  <tbody>\n",
              "    <tr>\n",
              "      <th>0</th>\n",
              "      <td>0.0</td>\n",
              "      <td>0.0</td>\n",
              "      <td>0.0</td>\n",
              "      <td>0.939648</td>\n",
              "      <td>0.0</td>\n",
              "      <td>0.00365</td>\n",
              "      <td>0.0</td>\n",
              "      <td>5.757629e-14</td>\n",
              "      <td>0.0</td>\n",
              "      <td>0.056701</td>\n",
              "    </tr>\n",
              "  </tbody>\n",
              "</table>\n",
              "</div>"
            ],
            "text/plain": [
              "     0    1    2         3    4        5    6             7    8         9\n",
              "0  0.0  0.0  0.0  0.939648  0.0  0.00365  0.0  5.757629e-14  0.0  0.056701"
            ]
          },
          "metadata": {
            "tags": []
          },
          "execution_count": 14
        }
      ]
    },
    {
      "cell_type": "code",
      "metadata": {
        "id": "o7EAhaxHHAHr",
        "colab": {
          "base_uri": "https://localhost:8080/",
          "height": 281
        },
        "outputId": "10c9d5e6-36f2-43a7-c4ca-e16dd9abb8b6"
      },
      "source": [
        "import seaborn as sns\n",
        "f = sns.barplot(data=predictions,color=\"red\")\n",
        "sns.set_style(style='white')\n",
        "f.grid(False)\n",
        "f.spines[\"top\"].set_visible(False)\n",
        "f.spines[\"right\"].set_visible(False)\n",
        "f.spines[\"bottom\"].set_visible(False)\n",
        "f.spines[\"left\"].set_visible(False)\n",
        "f.set_title('Top 3 Predictions:')\n",
        "\n",
        "argmax = np.argmax(preds[0]) #2\n",
        "# if argmax == 2:\n",
        "#   print(\"PREDICTION : birds\")\n",
        "output = model.output[:, argmax]"
      ],
      "execution_count": 15,
      "outputs": [
        {
          "output_type": "display_data",
          "data": {
            "image/png": "[encoded data removed]",
            "text/plain": [
              "<Figure size 432x288 with 1 Axes>"
            ]
          },
          "metadata": {
            "tags": [],
            "needs_background": "light"
          }
        }
      ]
    },
    {
      "cell_type": "code",
      "metadata": {
        "id": "sk0itM4dALiM",
        "colab": {
          "base_uri": "https://localhost:8080/",
          "height": 275
        },
        "outputId": "8130408c-fdd1-4c43-ade1-56b7a6fb8612"
      },
      "source": [
        "last_conv_layer = model.get_layer('conv2d_3')\n",
        "\n",
        "\n",
        "grad_model = tf.keras.models.Model(\n",
        "    [model.inputs], [model.get_layer('conv2d_3').output, model.output]\n",
        ")\n",
        "\n",
        "pred_index = None\n",
        "\n",
        "with tf.GradientTape() as tape:\n",
        "  last_conv_layer_output, preds = grad_model(x)\n",
        "  if pred_index is None:\n",
        "    pred_index = tf.argmax(preds[0])\n",
        "  class_channel = preds[:, pred_index]\n",
        "\n",
        "grads = tape.gradient(class_channel, last_conv_layer_output)\n",
        "pooled_grads = K.mean(grads, axis=(0,1,2))\n",
        "\n",
        "#output을 input에 대해 미분??\n",
        "# grads = tape.gradient(output, model.input[0])\n",
        "# # grads = tf.gradient(output, last_conv_layer.output[0])\n",
        "# # grads = tf.GradientTape(output, model.input[0])\n",
        "\n",
        "last_conv_layer_output = last_conv_layer_output[0]\n",
        "heatmap = last_conv_layer_output @ pooled_grads[..., tf.newaxis]\n",
        "heatmap = tf.squeeze(heatmap)\n",
        "plt.matshow(heatmap)\n",
        "plt.show()\n",
        "\n",
        "# iterate = K.function(model.input, [pooled_grads, last_conv_layer.output[0]])\n",
        "# pooled_grads_value, conv_layer_output_value = iterate([x])\n",
        "# for i in range(512):\n",
        "#     conv_layer_output_value[:, :, i] *= pooled_grads_value[i]\n",
        "# heatmap = np.mean(conv_layer_output_value, axis=-1)\n",
        "# heatmap = np.maximum(heatmap, 0)\n",
        "# heatmap /= np.max(heatmap)\n",
        "# plt.matshow(heatmap)\n",
        "# plt.show()"
      ],
      "execution_count": 16,
      "outputs": [
        {
          "output_type": "display_data",
          "data": {
            "image/png": "[encoded data removed]",
            "text/plain": [
              "<Figure size 288x288 with 1 Axes>"
            ]
          },
          "metadata": {
            "tags": []
          }
        }
      ]
    },
    {
      "cell_type": "code",
      "metadata": {
        "id": "U_hLPt7JZeiZ",
        "colab": {
          "base_uri": "https://localhost:8080/",
          "height": 275
        },
        "outputId": "81e2d034-88d1-4736-9475-4ec9aae4daa6"
      },
      "source": [
        "import matplotlib.cm as cm\n",
        "img = keras.preprocessing.image.img_to_array(img)\n",
        "\n",
        "# last_conv_layer_output = last_conv_layer_output[0]\n",
        "# heatmap = last_conv_layer_output @ pooled_grads[..., tf.newaxis]\n",
        "# heatmap = tf.squeeze(heatmap)\n",
        "# plt.matshow(heatmap)\n",
        "\n",
        "heatmap = np.uint8(255*heatmap)\n",
        "jet = cm.get_cmap(\"jet\")\n",
        "jet_colors = jet(np.arange(256))[:, :3]\n",
        "jet_heatmap = jet_colors[heatmap]\n",
        "\n",
        "jet_heatmap = keras.preprocessing.image.array_to_img(jet_heatmap)\n",
        "jet_heatmap = jet_heatmap.resize((img.shape[1], img.shape[0]))\n",
        "jet_heatmap = keras.preprocessing.image.img_to_array(jet_heatmap)\n",
        "\n",
        "superimposed_img = jet_heatmap * 0.4 + img\n",
        "superimposed_img = keras.preprocessing.image.array_to_img(superimposed_img)\n",
        "\n",
        "plt.matshow(superimposed_img)\n",
        "plt.show()"
      ],
      "execution_count": 17,
      "outputs": [
        {
          "output_type": "display_data",
          "data": {
            "image/png": "[encoded data removed]",
            "text/plain": [
              "<Figure size 288x288 with 1 Axes>"
            ]
          },
          "metadata": {
            "tags": []
          }
        }
      ]
    }
  ]
}